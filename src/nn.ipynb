{
 "cells": [
  {
   "cell_type": "code",
   "execution_count": 1,
   "metadata": {},
   "outputs": [],
   "source": [
    "# Importando pacotes \n",
    "import pandas as pd\n",
    "import numpy as np\n",
    "import warnings\n",
    "\n",
    "warnings.filterwarnings('ignore')"
   ]
  },
  {
   "cell_type": "code",
   "execution_count": 2,
   "metadata": {},
   "outputs": [],
   "source": [
    "# Importando dataset\n",
    "dados = pd.read_csv(\"dataset_treino_smt.csv\")"
   ]
  },
  {
   "cell_type": "code",
   "execution_count": 3,
   "metadata": {},
   "outputs": [
    {
     "data": {
      "text/html": [
       "<div>\n",
       "<style scoped>\n",
       "    .dataframe tbody tr th:only-of-type {\n",
       "        vertical-align: middle;\n",
       "    }\n",
       "\n",
       "    .dataframe tbody tr th {\n",
       "        vertical-align: top;\n",
       "    }\n",
       "\n",
       "    .dataframe thead th {\n",
       "        text-align: right;\n",
       "    }\n",
       "</style>\n",
       "<table border=\"1\" class=\"dataframe\">\n",
       "  <thead>\n",
       "    <tr style=\"text-align: right;\">\n",
       "      <th></th>\n",
       "      <th>num_gestacoes</th>\n",
       "      <th>glicose</th>\n",
       "      <th>pressao_sanguinea</th>\n",
       "      <th>grossura_pele</th>\n",
       "      <th>insulina</th>\n",
       "      <th>bmi</th>\n",
       "      <th>indice_historico</th>\n",
       "      <th>idade</th>\n",
       "      <th>classe</th>\n",
       "    </tr>\n",
       "  </thead>\n",
       "  <tbody>\n",
       "    <tr>\n",
       "      <th>count</th>\n",
       "      <td>7.840000e+02</td>\n",
       "      <td>7.840000e+02</td>\n",
       "      <td>7.840000e+02</td>\n",
       "      <td>7.840000e+02</td>\n",
       "      <td>7.840000e+02</td>\n",
       "      <td>7.840000e+02</td>\n",
       "      <td>7.840000e+02</td>\n",
       "      <td>7.840000e+02</td>\n",
       "      <td>784.000000</td>\n",
       "    </tr>\n",
       "    <tr>\n",
       "      <th>mean</th>\n",
       "      <td>4.824655e-16</td>\n",
       "      <td>-1.430262e-17</td>\n",
       "      <td>-6.538580e-15</td>\n",
       "      <td>-3.451533e-15</td>\n",
       "      <td>4.814743e-17</td>\n",
       "      <td>4.502935e-15</td>\n",
       "      <td>-7.862192e-16</td>\n",
       "      <td>2.307111e-15</td>\n",
       "      <td>0.500000</td>\n",
       "    </tr>\n",
       "    <tr>\n",
       "      <th>std</th>\n",
       "      <td>1.000638e+00</td>\n",
       "      <td>1.000638e+00</td>\n",
       "      <td>1.000638e+00</td>\n",
       "      <td>1.000638e+00</td>\n",
       "      <td>1.000638e+00</td>\n",
       "      <td>1.000638e+00</td>\n",
       "      <td>1.000638e+00</td>\n",
       "      <td>1.000638e+00</td>\n",
       "      <td>0.500319</td>\n",
       "    </tr>\n",
       "    <tr>\n",
       "      <th>min</th>\n",
       "      <td>-1.226543e+00</td>\n",
       "      <td>-2.612009e+00</td>\n",
       "      <td>-4.210164e+00</td>\n",
       "      <td>-2.707792e+00</td>\n",
       "      <td>-1.476873e+00</td>\n",
       "      <td>-2.202016e+00</td>\n",
       "      <td>-1.278200e+00</td>\n",
       "      <td>-1.146289e+00</td>\n",
       "      <td>0.000000</td>\n",
       "    </tr>\n",
       "    <tr>\n",
       "      <th>25%</th>\n",
       "      <td>-9.241635e-01</td>\n",
       "      <td>-7.347600e-01</td>\n",
       "      <td>-5.906960e-01</td>\n",
       "      <td>-4.330040e-01</td>\n",
       "      <td>-6.183399e-01</td>\n",
       "      <td>-6.406083e-01</td>\n",
       "      <td>-7.320929e-01</td>\n",
       "      <td>-8.003025e-01</td>\n",
       "      <td>0.000000</td>\n",
       "    </tr>\n",
       "    <tr>\n",
       "      <th>50%</th>\n",
       "      <td>-2.579459e-01</td>\n",
       "      <td>-1.167136e-01</td>\n",
       "      <td>-7.362915e-02</td>\n",
       "      <td>4.589860e-02</td>\n",
       "      <td>-1.244152e-01</td>\n",
       "      <td>-3.299563e-02</td>\n",
       "      <td>-2.920354e-01</td>\n",
       "      <td>-2.813225e-01</td>\n",
       "      <td>0.500000</td>\n",
       "    </tr>\n",
       "    <tr>\n",
       "      <th>75%</th>\n",
       "      <td>6.093805e-01</td>\n",
       "      <td>6.510697e-01</td>\n",
       "      <td>6.157934e-01</td>\n",
       "      <td>4.050756e-01</td>\n",
       "      <td>2.509246e-01</td>\n",
       "      <td>5.403119e-01</td>\n",
       "      <td>5.398817e-01</td>\n",
       "      <td>5.836440e-01</td>\n",
       "      <td>1.000000</td>\n",
       "    </tr>\n",
       "    <tr>\n",
       "      <th>max</th>\n",
       "      <td>3.913914e+00</td>\n",
       "      <td>2.314600e+00</td>\n",
       "      <td>4.235262e+00</td>\n",
       "      <td>3.996845e+00</td>\n",
       "      <td>7.451869e+00</td>\n",
       "      <td>5.125844e+00</td>\n",
       "      <td>5.827261e+00</td>\n",
       "      <td>4.043510e+00</td>\n",
       "      <td>1.000000</td>\n",
       "    </tr>\n",
       "  </tbody>\n",
       "</table>\n",
       "</div>"
      ],
      "text/plain": [
       "       num_gestacoes       glicose  pressao_sanguinea  grossura_pele  \\\n",
       "count   7.840000e+02  7.840000e+02       7.840000e+02   7.840000e+02   \n",
       "mean    4.824655e-16 -1.430262e-17      -6.538580e-15  -3.451533e-15   \n",
       "std     1.000638e+00  1.000638e+00       1.000638e+00   1.000638e+00   \n",
       "min    -1.226543e+00 -2.612009e+00      -4.210164e+00  -2.707792e+00   \n",
       "25%    -9.241635e-01 -7.347600e-01      -5.906960e-01  -4.330040e-01   \n",
       "50%    -2.579459e-01 -1.167136e-01      -7.362915e-02   4.589860e-02   \n",
       "75%     6.093805e-01  6.510697e-01       6.157934e-01   4.050756e-01   \n",
       "max     3.913914e+00  2.314600e+00       4.235262e+00   3.996845e+00   \n",
       "\n",
       "           insulina           bmi  indice_historico         idade      classe  \n",
       "count  7.840000e+02  7.840000e+02      7.840000e+02  7.840000e+02  784.000000  \n",
       "mean   4.814743e-17  4.502935e-15     -7.862192e-16  2.307111e-15    0.500000  \n",
       "std    1.000638e+00  1.000638e+00      1.000638e+00  1.000638e+00    0.500319  \n",
       "min   -1.476873e+00 -2.202016e+00     -1.278200e+00 -1.146289e+00    0.000000  \n",
       "25%   -6.183399e-01 -6.406083e-01     -7.320929e-01 -8.003025e-01    0.000000  \n",
       "50%   -1.244152e-01 -3.299563e-02     -2.920354e-01 -2.813225e-01    0.500000  \n",
       "75%    2.509246e-01  5.403119e-01      5.398817e-01  5.836440e-01    1.000000  \n",
       "max    7.451869e+00  5.125844e+00      5.827261e+00  4.043510e+00    1.000000  "
      ]
     },
     "execution_count": 3,
     "metadata": {},
     "output_type": "execute_result"
    }
   ],
   "source": [
    "dados.describe()"
   ]
  },
  {
   "cell_type": "code",
   "execution_count": 4,
   "metadata": {},
   "outputs": [],
   "source": [
    "# Definindo variáveis preditoras e variável target\n",
    "features = dados.drop(['classe'], axis=1).columns\n",
    "x = dados[features].values\n",
    "y = dados['classe'].values"
   ]
  },
  {
   "cell_type": "code",
   "execution_count": 5,
   "metadata": {},
   "outputs": [
    {
     "data": {
      "text/plain": [
       "(784, 8)"
      ]
     },
     "execution_count": 5,
     "metadata": {},
     "output_type": "execute_result"
    }
   ],
   "source": [
    "# Avaliando o shape dos dados para criação do modelo\n",
    "x.shape"
   ]
  },
  {
   "cell_type": "code",
   "execution_count": 23,
   "metadata": {},
   "outputs": [],
   "source": [
    "# Importando os pacotes\n",
    "from keras.models import Sequential\n",
    "from keras.layers import Dense, Dropout, BatchNormalization\n",
    "from keras.callbacks import EarlyStopping"
   ]
  },
  {
   "cell_type": "markdown",
   "metadata": {},
   "source": [
    "## Construindo as Camadas"
   ]
  },
  {
   "cell_type": "code",
   "execution_count": 21,
   "metadata": {},
   "outputs": [],
   "source": [
    "# Definindo objeto para criação do modelo sequencial\n",
    "model = Sequential()\n",
    "\n",
    "# Primeira camada oculta com 1024 neurônios, onde os dados de input tem o shape = (8,)\n",
    "model.add(Dense(1024, input_dim = x.shape[1], kernel_initializer = 'normal', activation = 'relu'))\n",
    "# Segunda camada oculta\n",
    "model.add(Dense(512, kernel_initializer = 'normal', activation = 'relu'))\n",
    "# Normalizando saídas\n",
    "model.add(BatchNormalization())\n",
    "# Aplicando dropout para evitar overfitting\n",
    "model.add(Dropout(0.10))\n",
    "# Terceira camada oculta\n",
    "model.add(Dense(512, kernel_initializer = 'normal', activation = 'relu'))\n",
    "# Quarta camada oculta\n",
    "model.add(Dense(256, kernel_initializer = 'normal', activation = 'relu'))\n",
    "# Normalizando a saída novamente\n",
    "model.add(BatchNormalization())\n",
    "# Aplicando dropout para evitar overfitting\n",
    "model.add(Dropout(0.10))\n",
    "# Quinta camada oculta\n",
    "model.add(Dense(256, kernel_initializer = 'normal', activation = 'relu'))\n",
    "# Sexta camada oculta\n",
    "model.add(Dense(128, kernel_initializer = 'normal', activation = 'relu'))\n",
    "# Normalizando a saída novamente\n",
    "model.add(BatchNormalization())\n",
    "# Aplicando dropout para evitar overfitting\n",
    "model.add(Dropout(0.10))\n",
    "# Sétima camada oculta\n",
    "model.add(Dense(128, kernel_initializer = 'normal', activation = 'relu'))\n",
    "# Camada de output: utilizamos a função sigmoid para avaliar a probabilidade de cada uma das classes\n",
    "model.add(Dense(1, activation = 'sigmoid'))"
   ]
  },
  {
   "cell_type": "code",
   "execution_count": 22,
   "metadata": {},
   "outputs": [],
   "source": [
    "# Compilação do modelo\n",
    "model.compile(loss = 'binary_crossentropy', optimizer = 'SGD',  metrics = [\"accuracy\"])\n",
    "\n",
    "# Early stoppping\n",
    "monitor = EarlyStopping(monitor = 'val_loss', min_delta = 0.001, patience = 5, verbose = 1, mode = 'auto')"
   ]
  },
  {
   "cell_type": "code",
   "execution_count": 9,
   "metadata": {},
   "outputs": [
    {
     "name": "stdout",
     "output_type": "stream",
     "text": [
      "_________________________________________________________________\n",
      "Layer (type)                 Output Shape              Param #   \n",
      "=================================================================\n",
      "dense_1 (Dense)              (None, 1024)              9216      \n",
      "_________________________________________________________________\n",
      "dense_2 (Dense)              (None, 512)               524800    \n",
      "_________________________________________________________________\n",
      "batch_normalization_1 (Batch (None, 512)               2048      \n",
      "_________________________________________________________________\n",
      "dropout_1 (Dropout)          (None, 512)               0         \n",
      "_________________________________________________________________\n",
      "dense_3 (Dense)              (None, 512)               262656    \n",
      "_________________________________________________________________\n",
      "dense_4 (Dense)              (None, 256)               131328    \n",
      "_________________________________________________________________\n",
      "batch_normalization_2 (Batch (None, 256)               1024      \n",
      "_________________________________________________________________\n",
      "dropout_2 (Dropout)          (None, 256)               0         \n",
      "_________________________________________________________________\n",
      "dense_5 (Dense)              (None, 256)               65792     \n",
      "_________________________________________________________________\n",
      "dense_6 (Dense)              (None, 128)               32896     \n",
      "_________________________________________________________________\n",
      "batch_normalization_3 (Batch (None, 128)               512       \n",
      "_________________________________________________________________\n",
      "dropout_3 (Dropout)          (None, 128)               0         \n",
      "_________________________________________________________________\n",
      "dense_7 (Dense)              (None, 128)               16512     \n",
      "_________________________________________________________________\n",
      "dense_8 (Dense)              (None, 1)                 129       \n",
      "=================================================================\n",
      "Total params: 1,046,913\n",
      "Trainable params: 1,045,121\n",
      "Non-trainable params: 1,792\n",
      "_________________________________________________________________\n"
     ]
    }
   ],
   "source": [
    "# Verificando um resumo dos parametros do modelo\n",
    "model.summary()"
   ]
  },
  {
   "cell_type": "code",
   "execution_count": 10,
   "metadata": {},
   "outputs": [
    {
     "name": "stdout",
     "output_type": "stream",
     "text": [
      "Train on 588 samples, validate on 196 samples\n",
      "Epoch 1/1000\n",
      " - 3s - loss: 0.6299 - acc: 0.6599 - val_loss: 0.5666 - val_acc: 0.7755\n",
      "Epoch 2/1000\n",
      " - 0s - loss: 0.5160 - acc: 0.7721 - val_loss: 0.5092 - val_acc: 0.8061\n",
      "Epoch 3/1000\n",
      " - 0s - loss: 0.4474 - acc: 0.8214 - val_loss: 0.4483 - val_acc: 0.8469\n",
      "Epoch 4/1000\n",
      " - 0s - loss: 0.4003 - acc: 0.8469 - val_loss: 0.3826 - val_acc: 0.8827\n",
      "Epoch 5/1000\n",
      " - 0s - loss: 0.3661 - acc: 0.8554 - val_loss: 0.3644 - val_acc: 0.8929\n",
      "Epoch 6/1000\n",
      " - 0s - loss: 0.3407 - acc: 0.8793 - val_loss: 0.3216 - val_acc: 0.9082\n",
      "Epoch 7/1000\n",
      " - 0s - loss: 0.3214 - acc: 0.8810 - val_loss: 0.2856 - val_acc: 0.9235\n",
      "Epoch 8/1000\n",
      " - 0s - loss: 0.2860 - acc: 0.8776 - val_loss: 0.2707 - val_acc: 0.9235\n",
      "Epoch 9/1000\n",
      " - 0s - loss: 0.2885 - acc: 0.9014 - val_loss: 0.2638 - val_acc: 0.9337\n",
      "Epoch 10/1000\n",
      " - 0s - loss: 0.2757 - acc: 0.8963 - val_loss: 0.2775 - val_acc: 0.8929\n",
      "Epoch 11/1000\n",
      " - 0s - loss: 0.2515 - acc: 0.9082 - val_loss: 0.2496 - val_acc: 0.9031\n",
      "Epoch 12/1000\n",
      " - 0s - loss: 0.2156 - acc: 0.9218 - val_loss: 0.2264 - val_acc: 0.9439\n",
      "Epoch 13/1000\n",
      " - 0s - loss: 0.2155 - acc: 0.9286 - val_loss: 0.2104 - val_acc: 0.9337\n",
      "Epoch 14/1000\n",
      " - 0s - loss: 0.2234 - acc: 0.9150 - val_loss: 0.2241 - val_acc: 0.9286\n",
      "Epoch 15/1000\n",
      " - 0s - loss: 0.2044 - acc: 0.9354 - val_loss: 0.1944 - val_acc: 0.9439\n",
      "Epoch 16/1000\n",
      " - 0s - loss: 0.1885 - acc: 0.9371 - val_loss: 0.1741 - val_acc: 0.9592\n",
      "Epoch 17/1000\n",
      " - 0s - loss: 0.1677 - acc: 0.9405 - val_loss: 0.1736 - val_acc: 0.9337\n",
      "Epoch 18/1000\n",
      " - 0s - loss: 0.1568 - acc: 0.9507 - val_loss: 0.1617 - val_acc: 0.9490\n",
      "Epoch 19/1000\n",
      " - 0s - loss: 0.1505 - acc: 0.9524 - val_loss: 0.1621 - val_acc: 0.9592\n",
      "Epoch 20/1000\n",
      " - 0s - loss: 0.1453 - acc: 0.9592 - val_loss: 0.1504 - val_acc: 0.9643\n",
      "Epoch 21/1000\n",
      " - 0s - loss: 0.1467 - acc: 0.9456 - val_loss: 0.1408 - val_acc: 0.9490\n",
      "Epoch 22/1000\n",
      " - 0s - loss: 0.1228 - acc: 0.9541 - val_loss: 0.1280 - val_acc: 0.9694\n",
      "Epoch 23/1000\n",
      " - 0s - loss: 0.1138 - acc: 0.9643 - val_loss: 0.1403 - val_acc: 0.9541\n",
      "Epoch 24/1000\n",
      " - 0s - loss: 0.1244 - acc: 0.9626 - val_loss: 0.1468 - val_acc: 0.9592\n",
      "Epoch 25/1000\n",
      " - 0s - loss: 0.1026 - acc: 0.9711 - val_loss: 0.1294 - val_acc: 0.9643\n",
      "Epoch 26/1000\n",
      " - 0s - loss: 0.1071 - acc: 0.9660 - val_loss: 0.1270 - val_acc: 0.9592\n",
      "Epoch 27/1000\n",
      " - 0s - loss: 0.1144 - acc: 0.9643 - val_loss: 0.1233 - val_acc: 0.9694\n",
      "Epoch 28/1000\n",
      " - 0s - loss: 0.0924 - acc: 0.9762 - val_loss: 0.1611 - val_acc: 0.9490\n",
      "Epoch 29/1000\n",
      " - 0s - loss: 0.0898 - acc: 0.9779 - val_loss: 0.1401 - val_acc: 0.9592\n",
      "Epoch 30/1000\n",
      " - 0s - loss: 0.0750 - acc: 0.9796 - val_loss: 0.1434 - val_acc: 0.9592\n",
      "Epoch 31/1000\n",
      " - 0s - loss: 0.0982 - acc: 0.9592 - val_loss: 0.1826 - val_acc: 0.9388\n",
      "Epoch 32/1000\n",
      " - 0s - loss: 0.0900 - acc: 0.9728 - val_loss: 0.1339 - val_acc: 0.9592\n",
      "Epoch 00032: early stopping\n"
     ]
    },
    {
     "data": {
      "text/plain": [
       "<keras.callbacks.History at 0x1ea2bc347f0>"
      ]
     },
     "execution_count": 10,
     "metadata": {},
     "output_type": "execute_result"
    }
   ],
   "source": [
    "# Fit do modelo\n",
    "model.fit(x, y, validation_split=0.25, callbacks = [monitor], verbose = 2, epochs = 1000)"
   ]
  },
  {
   "cell_type": "code",
   "execution_count": 11,
   "metadata": {},
   "outputs": [
    {
     "name": "stdout",
     "output_type": "stream",
     "text": [
      "[[391   1]\n",
      " [  9 383]]\n"
     ]
    }
   ],
   "source": [
    "# Importando a função\n",
    "from sklearn.metrics import confusion_matrix\n",
    "\n",
    "# Usando o modelo para prever nos prórpios dados de treino e verificar se as previsões estão balanceadas\n",
    "y_pred = model.predict_classes(x)\n",
    "confusion = confusion_matrix(y, y_pred, labels=[0,1])\n",
    "print(confusion)"
   ]
  },
  {
   "cell_type": "code",
   "execution_count": 12,
   "metadata": {},
   "outputs": [],
   "source": [
    "# Importando os dados de teste\n",
    "teste = pd.read_csv(\"dataset_teste_ajustado.csv\")"
   ]
  },
  {
   "cell_type": "code",
   "execution_count": 13,
   "metadata": {},
   "outputs": [
    {
     "data": {
      "text/html": [
       "<div>\n",
       "<style scoped>\n",
       "    .dataframe tbody tr th:only-of-type {\n",
       "        vertical-align: middle;\n",
       "    }\n",
       "\n",
       "    .dataframe tbody tr th {\n",
       "        vertical-align: top;\n",
       "    }\n",
       "\n",
       "    .dataframe thead th {\n",
       "        text-align: right;\n",
       "    }\n",
       "</style>\n",
       "<table border=\"1\" class=\"dataframe\">\n",
       "  <thead>\n",
       "    <tr style=\"text-align: right;\">\n",
       "      <th></th>\n",
       "      <th>id</th>\n",
       "      <th>num_gestacoes</th>\n",
       "      <th>glicose</th>\n",
       "      <th>pressao_sanguinea</th>\n",
       "      <th>grossura_pele</th>\n",
       "      <th>insulina</th>\n",
       "      <th>bmi</th>\n",
       "      <th>indice_historico</th>\n",
       "      <th>idade</th>\n",
       "    </tr>\n",
       "  </thead>\n",
       "  <tbody>\n",
       "    <tr>\n",
       "      <th>count</th>\n",
       "      <td>168.000000</td>\n",
       "      <td>1.680000e+02</td>\n",
       "      <td>1.680000e+02</td>\n",
       "      <td>1.680000e+02</td>\n",
       "      <td>1.680000e+02</td>\n",
       "      <td>1.680000e+02</td>\n",
       "      <td>1.680000e+02</td>\n",
       "      <td>1.680000e+02</td>\n",
       "      <td>1.680000e+02</td>\n",
       "    </tr>\n",
       "    <tr>\n",
       "      <th>mean</th>\n",
       "      <td>84.500000</td>\n",
       "      <td>-6.476301e-17</td>\n",
       "      <td>-3.172066e-17</td>\n",
       "      <td>-1.166395e-16</td>\n",
       "      <td>1.346476e-16</td>\n",
       "      <td>-7.269317e-18</td>\n",
       "      <td>1.040834e-16</td>\n",
       "      <td>2.511219e-17</td>\n",
       "      <td>2.643388e-18</td>\n",
       "    </tr>\n",
       "    <tr>\n",
       "      <th>std</th>\n",
       "      <td>48.641546</td>\n",
       "      <td>1.002990e+00</td>\n",
       "      <td>1.002990e+00</td>\n",
       "      <td>1.002990e+00</td>\n",
       "      <td>1.002990e+00</td>\n",
       "      <td>1.002990e+00</td>\n",
       "      <td>1.002990e+00</td>\n",
       "      <td>1.002990e+00</td>\n",
       "      <td>1.002990e+00</td>\n",
       "    </tr>\n",
       "    <tr>\n",
       "      <th>min</th>\n",
       "      <td>1.000000</td>\n",
       "      <td>-1.155394e+00</td>\n",
       "      <td>-2.285680e+00</td>\n",
       "      <td>-2.383750e+00</td>\n",
       "      <td>-2.437118e+00</td>\n",
       "      <td>-1.400428e+00</td>\n",
       "      <td>-2.025899e+00</td>\n",
       "      <td>-1.102218e+00</td>\n",
       "      <td>-1.051503e+00</td>\n",
       "    </tr>\n",
       "    <tr>\n",
       "      <th>25%</th>\n",
       "      <td>42.750000</td>\n",
       "      <td>-8.639430e-01</td>\n",
       "      <td>-7.408370e-01</td>\n",
       "      <td>-7.741438e-01</td>\n",
       "      <td>-4.468050e-01</td>\n",
       "      <td>-2.593337e-01</td>\n",
       "      <td>-7.275532e-01</td>\n",
       "      <td>-7.026201e-01</td>\n",
       "      <td>-8.130179e-01</td>\n",
       "    </tr>\n",
       "    <tr>\n",
       "      <th>50%</th>\n",
       "      <td>84.500000</td>\n",
       "      <td>-2.810417e-01</td>\n",
       "      <td>-1.363332e-01</td>\n",
       "      <td>3.065916e-02</td>\n",
       "      <td>-3.610546e-02</td>\n",
       "      <td>-2.593337e-01</td>\n",
       "      <td>-4.380867e-02</td>\n",
       "      <td>-3.160434e-01</td>\n",
       "      <td>-4.444498e-01</td>\n",
       "    </tr>\n",
       "    <tr>\n",
       "      <th>75%</th>\n",
       "      <td>126.250000</td>\n",
       "      <td>5.933102e-01</td>\n",
       "      <td>6.192965e-01</td>\n",
       "      <td>5.537811e-01</td>\n",
       "      <td>3.745941e-01</td>\n",
       "      <td>-8.273580e-02</td>\n",
       "      <td>6.092057e-01</td>\n",
       "      <td>4.864084e-01</td>\n",
       "      <td>7.696570e-01</td>\n",
       "    </tr>\n",
       "    <tr>\n",
       "      <th>max</th>\n",
       "      <td>168.000000</td>\n",
       "      <td>2.633465e+00</td>\n",
       "      <td>2.483183e+00</td>\n",
       "      <td>3.249871e+00</td>\n",
       "      <td>2.491276e+00</td>\n",
       "      <td>7.630517e+00</td>\n",
       "      <td>3.782088e+00</td>\n",
       "      <td>4.099883e+00</td>\n",
       "      <td>3.197871e+00</td>\n",
       "    </tr>\n",
       "  </tbody>\n",
       "</table>\n",
       "</div>"
      ],
      "text/plain": [
       "               id  num_gestacoes       glicose  pressao_sanguinea  \\\n",
       "count  168.000000   1.680000e+02  1.680000e+02       1.680000e+02   \n",
       "mean    84.500000  -6.476301e-17 -3.172066e-17      -1.166395e-16   \n",
       "std     48.641546   1.002990e+00  1.002990e+00       1.002990e+00   \n",
       "min      1.000000  -1.155394e+00 -2.285680e+00      -2.383750e+00   \n",
       "25%     42.750000  -8.639430e-01 -7.408370e-01      -7.741438e-01   \n",
       "50%     84.500000  -2.810417e-01 -1.363332e-01       3.065916e-02   \n",
       "75%    126.250000   5.933102e-01  6.192965e-01       5.537811e-01   \n",
       "max    168.000000   2.633465e+00  2.483183e+00       3.249871e+00   \n",
       "\n",
       "       grossura_pele      insulina           bmi  indice_historico  \\\n",
       "count   1.680000e+02  1.680000e+02  1.680000e+02      1.680000e+02   \n",
       "mean    1.346476e-16 -7.269317e-18  1.040834e-16      2.511219e-17   \n",
       "std     1.002990e+00  1.002990e+00  1.002990e+00      1.002990e+00   \n",
       "min    -2.437118e+00 -1.400428e+00 -2.025899e+00     -1.102218e+00   \n",
       "25%    -4.468050e-01 -2.593337e-01 -7.275532e-01     -7.026201e-01   \n",
       "50%    -3.610546e-02 -2.593337e-01 -4.380867e-02     -3.160434e-01   \n",
       "75%     3.745941e-01 -8.273580e-02  6.092057e-01      4.864084e-01   \n",
       "max     2.491276e+00  7.630517e+00  3.782088e+00      4.099883e+00   \n",
       "\n",
       "              idade  \n",
       "count  1.680000e+02  \n",
       "mean   2.643388e-18  \n",
       "std    1.002990e+00  \n",
       "min   -1.051503e+00  \n",
       "25%   -8.130179e-01  \n",
       "50%   -4.444498e-01  \n",
       "75%    7.696570e-01  \n",
       "max    3.197871e+00  "
      ]
     },
     "execution_count": 13,
     "metadata": {},
     "output_type": "execute_result"
    }
   ],
   "source": [
    "# Avaliando se os dados foram importados corretamente\n",
    "teste.describe()"
   ]
  },
  {
   "cell_type": "code",
   "execution_count": 14,
   "metadata": {},
   "outputs": [
    {
     "data": {
      "text/plain": [
       "(168, 8)"
      ]
     },
     "execution_count": 14,
     "metadata": {},
     "output_type": "execute_result"
    }
   ],
   "source": [
    "# Separando os dados para previsão do modelo\n",
    "prever = teste.loc[:, features].values\n",
    "prever.shape"
   ]
  },
  {
   "cell_type": "code",
   "execution_count": 15,
   "metadata": {},
   "outputs": [
    {
     "data": {
      "text/plain": [
       "array([-0.86394299, -0.5393357 ,  1.15738336, -1.2997964 , -0.2593337 ,\n",
       "       -0.85815606, -0.12560352, -0.79133746])"
      ]
     },
     "execution_count": 15,
     "metadata": {},
     "output_type": "execute_result"
    }
   ],
   "source": [
    "# Verificando primeiro elemento para validar a separação\n",
    "prever[0]"
   ]
  },
  {
   "cell_type": "code",
   "execution_count": 16,
   "metadata": {},
   "outputs": [],
   "source": [
    "# Prevendo as classes para os dados de teste\n",
    "pred = model.predict_classes(prever)"
   ]
  },
  {
   "cell_type": "code",
   "execution_count": 17,
   "metadata": {},
   "outputs": [],
   "source": [
    "# Selecionando as colunas para envio da resposta no modelo indicado pelo torneio\n",
    "resposta = pd.DataFrame({\"id\":teste['id'].values})\n",
    "resposta[\"classe\"] = pred"
   ]
  },
  {
   "cell_type": "code",
   "execution_count": 18,
   "metadata": {},
   "outputs": [
    {
     "data": {
      "text/html": [
       "<div>\n",
       "<style scoped>\n",
       "    .dataframe tbody tr th:only-of-type {\n",
       "        vertical-align: middle;\n",
       "    }\n",
       "\n",
       "    .dataframe tbody tr th {\n",
       "        vertical-align: top;\n",
       "    }\n",
       "\n",
       "    .dataframe thead th {\n",
       "        text-align: right;\n",
       "    }\n",
       "</style>\n",
       "<table border=\"1\" class=\"dataframe\">\n",
       "  <thead>\n",
       "    <tr style=\"text-align: right;\">\n",
       "      <th></th>\n",
       "      <th>id</th>\n",
       "      <th>classe</th>\n",
       "    </tr>\n",
       "  </thead>\n",
       "  <tbody>\n",
       "    <tr>\n",
       "      <th>0</th>\n",
       "      <td>1</td>\n",
       "      <td>0</td>\n",
       "    </tr>\n",
       "    <tr>\n",
       "      <th>1</th>\n",
       "      <td>2</td>\n",
       "      <td>0</td>\n",
       "    </tr>\n",
       "    <tr>\n",
       "      <th>2</th>\n",
       "      <td>3</td>\n",
       "      <td>1</td>\n",
       "    </tr>\n",
       "    <tr>\n",
       "      <th>3</th>\n",
       "      <td>4</td>\n",
       "      <td>1</td>\n",
       "    </tr>\n",
       "    <tr>\n",
       "      <th>4</th>\n",
       "      <td>5</td>\n",
       "      <td>0</td>\n",
       "    </tr>\n",
       "  </tbody>\n",
       "</table>\n",
       "</div>"
      ],
      "text/plain": [
       "   id  classe\n",
       "0   1       0\n",
       "1   2       0\n",
       "2   3       1\n",
       "3   4       1\n",
       "4   5       0"
      ]
     },
     "execution_count": 18,
     "metadata": {},
     "output_type": "execute_result"
    }
   ],
   "source": [
    "# Validando o formato\n",
    "resposta.head()"
   ]
  },
  {
   "cell_type": "code",
   "execution_count": 19,
   "metadata": {},
   "outputs": [
    {
     "name": "stdout",
     "output_type": "stream",
     "text": [
      "O modelo previu que 58 pessoas possuem diabetes em 168 possíveis.\n"
     ]
    }
   ],
   "source": [
    "# Verificando as previsões\n",
    "print(f'O modelo previu que {resposta.classe.sum()} pessoas possuem diabetes em {len(resposta)} possíveis.')"
   ]
  },
  {
   "cell_type": "code",
   "execution_count": 20,
   "metadata": {},
   "outputs": [],
   "source": [
    "# Salvando o arquivo csv\n",
    "resposta.to_csv('./keras_resposta.csv', index=False)"
   ]
  },
  {
   "cell_type": "markdown",
   "metadata": {},
   "source": [
    "## Resultados:\n",
    "* Public Score: 0.92\n",
    "* Private Score: 0.68"
   ]
  },
  {
   "cell_type": "markdown",
   "metadata": {},
   "source": [
    "FIM!"
   ]
  }
 ],
 "metadata": {
  "anaconda-cloud": {},
  "kernelspec": {
   "display_name": "Python 3",
   "language": "python",
   "name": "python3"
  },
  "language_info": {
   "codemirror_mode": {
    "name": "ipython",
    "version": 3
   },
   "file_extension": ".py",
   "mimetype": "text/x-python",
   "name": "python",
   "nbconvert_exporter": "python",
   "pygments_lexer": "ipython3",
   "version": "3.7.3"
  }
 },
 "nbformat": 4,
 "nbformat_minor": 2
}
