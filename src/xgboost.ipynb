{
 "cells": [
  {
   "cell_type": "code",
   "execution_count": 15,
   "metadata": {},
   "outputs": [],
   "source": [
    "# Importando pacotes \n",
    "import numpy as np\n",
    "import pandas as pd\n",
    "import xgboost as xgb\n",
    "import matplotlib.pyplot as plt\n",
    "from xgboost import plot_importance\n",
    "from sklearn.model_selection import train_test_split\n",
    "import warnings\n",
    "\n",
    "warnings.filterwarnings('ignore')\n",
    "\n",
    "# Comando para que os gráficos sejam apresentados no próprio notebook\n",
    "%matplotlib inline"
   ]
  },
  {
   "cell_type": "code",
   "execution_count": 2,
   "metadata": {},
   "outputs": [],
   "source": [
    "# Importando dados\n",
    "treino = pd.read_csv(\"dataset_treino_smt.csv\")\n",
    "teste = pd.read_csv(\"dataset_teste_ajustado.csv\")"
   ]
  },
  {
   "cell_type": "code",
   "execution_count": 3,
   "metadata": {},
   "outputs": [
    {
     "data": {
      "text/html": [
       "<div>\n",
       "<style scoped>\n",
       "    .dataframe tbody tr th:only-of-type {\n",
       "        vertical-align: middle;\n",
       "    }\n",
       "\n",
       "    .dataframe tbody tr th {\n",
       "        vertical-align: top;\n",
       "    }\n",
       "\n",
       "    .dataframe thead th {\n",
       "        text-align: right;\n",
       "    }\n",
       "</style>\n",
       "<table border=\"1\" class=\"dataframe\">\n",
       "  <thead>\n",
       "    <tr style=\"text-align: right;\">\n",
       "      <th></th>\n",
       "      <th>num_gestacoes</th>\n",
       "      <th>glicose</th>\n",
       "      <th>pressao_sanguinea</th>\n",
       "      <th>grossura_pele</th>\n",
       "      <th>insulina</th>\n",
       "      <th>bmi</th>\n",
       "      <th>indice_historico</th>\n",
       "      <th>idade</th>\n",
       "      <th>classe</th>\n",
       "    </tr>\n",
       "  </thead>\n",
       "  <tbody>\n",
       "    <tr>\n",
       "      <th>0</th>\n",
       "      <td>0.587736</td>\n",
       "      <td>0.715052</td>\n",
       "      <td>-0.073629</td>\n",
       "      <td>0.644527</td>\n",
       "      <td>0.250925</td>\n",
       "      <td>0.105735</td>\n",
       "      <td>0.387427</td>\n",
       "      <td>1.362114</td>\n",
       "      <td>1</td>\n",
       "    </tr>\n",
       "    <tr>\n",
       "      <th>1</th>\n",
       "      <td>-0.924164</td>\n",
       "      <td>-1.300379</td>\n",
       "      <td>-0.590696</td>\n",
       "      <td>-0.073827</td>\n",
       "      <td>-0.618340</td>\n",
       "      <td>-0.943243</td>\n",
       "      <td>-0.449938</td>\n",
       "      <td>-0.281323</td>\n",
       "      <td>0</td>\n",
       "    </tr>\n",
       "    <tr>\n",
       "      <th>2</th>\n",
       "      <td>1.192496</td>\n",
       "      <td>1.834736</td>\n",
       "      <td>-0.763052</td>\n",
       "      <td>0.285350</td>\n",
       "      <td>0.250925</td>\n",
       "      <td>-1.437761</td>\n",
       "      <td>0.523954</td>\n",
       "      <td>-0.194826</td>\n",
       "      <td>1</td>\n",
       "    </tr>\n",
       "    <tr>\n",
       "      <th>3</th>\n",
       "      <td>-0.924164</td>\n",
       "      <td>-1.172416</td>\n",
       "      <td>-0.590696</td>\n",
       "      <td>-0.792181</td>\n",
       "      <td>-0.618340</td>\n",
       "      <td>-0.718462</td>\n",
       "      <td>-1.008180</td>\n",
       "      <td>-1.146289</td>\n",
       "      <td>0</td>\n",
       "    </tr>\n",
       "    <tr>\n",
       "      <th>4</th>\n",
       "      <td>-1.226543</td>\n",
       "      <td>0.363151</td>\n",
       "      <td>-2.831319</td>\n",
       "      <td>0.644527</td>\n",
       "      <td>0.175803</td>\n",
       "      <td>1.529348</td>\n",
       "      <td>5.426782</td>\n",
       "      <td>-0.108329</td>\n",
       "      <td>1</td>\n",
       "    </tr>\n",
       "  </tbody>\n",
       "</table>\n",
       "</div>"
      ],
      "text/plain": [
       "   num_gestacoes   glicose  pressao_sanguinea  grossura_pele  insulina  \\\n",
       "0       0.587736  0.715052          -0.073629       0.644527  0.250925   \n",
       "1      -0.924164 -1.300379          -0.590696      -0.073827 -0.618340   \n",
       "2       1.192496  1.834736          -0.763052       0.285350  0.250925   \n",
       "3      -0.924164 -1.172416          -0.590696      -0.792181 -0.618340   \n",
       "4      -1.226543  0.363151          -2.831319       0.644527  0.175803   \n",
       "\n",
       "        bmi  indice_historico     idade  classe  \n",
       "0  0.105735          0.387427  1.362114       1  \n",
       "1 -0.943243         -0.449938 -0.281323       0  \n",
       "2 -1.437761          0.523954 -0.194826       1  \n",
       "3 -0.718462         -1.008180 -1.146289       0  \n",
       "4  1.529348          5.426782 -0.108329       1  "
      ]
     },
     "execution_count": 3,
     "metadata": {},
     "output_type": "execute_result"
    }
   ],
   "source": [
    "# Verificando se os dados de treino foram importados corretamente\n",
    "treino.head()"
   ]
  },
  {
   "cell_type": "code",
   "execution_count": 4,
   "metadata": {},
   "outputs": [
    {
     "data": {
      "text/html": [
       "<div>\n",
       "<style scoped>\n",
       "    .dataframe tbody tr th:only-of-type {\n",
       "        vertical-align: middle;\n",
       "    }\n",
       "\n",
       "    .dataframe tbody tr th {\n",
       "        vertical-align: top;\n",
       "    }\n",
       "\n",
       "    .dataframe thead th {\n",
       "        text-align: right;\n",
       "    }\n",
       "</style>\n",
       "<table border=\"1\" class=\"dataframe\">\n",
       "  <thead>\n",
       "    <tr style=\"text-align: right;\">\n",
       "      <th></th>\n",
       "      <th>id</th>\n",
       "      <th>num_gestacoes</th>\n",
       "      <th>glicose</th>\n",
       "      <th>pressao_sanguinea</th>\n",
       "      <th>grossura_pele</th>\n",
       "      <th>insulina</th>\n",
       "      <th>bmi</th>\n",
       "      <th>indice_historico</th>\n",
       "      <th>idade</th>\n",
       "    </tr>\n",
       "  </thead>\n",
       "  <tbody>\n",
       "    <tr>\n",
       "      <th>0</th>\n",
       "      <td>1</td>\n",
       "      <td>-0.863943</td>\n",
       "      <td>-0.539336</td>\n",
       "      <td>1.157383</td>\n",
       "      <td>-1.299796</td>\n",
       "      <td>-0.259334</td>\n",
       "      <td>-0.858156</td>\n",
       "      <td>-0.125604</td>\n",
       "      <td>-0.791337</td>\n",
       "    </tr>\n",
       "    <tr>\n",
       "      <th>1</th>\n",
       "      <td>2</td>\n",
       "      <td>0.593310</td>\n",
       "      <td>-0.942338</td>\n",
       "      <td>-0.130301</td>\n",
       "      <td>-0.036105</td>\n",
       "      <td>-0.259334</td>\n",
       "      <td>-1.380568</td>\n",
       "      <td>-0.809234</td>\n",
       "      <td>-0.444450</td>\n",
       "    </tr>\n",
       "    <tr>\n",
       "      <th>2</th>\n",
       "      <td>3</td>\n",
       "      <td>-0.863943</td>\n",
       "      <td>-0.001999</td>\n",
       "      <td>0.030659</td>\n",
       "      <td>0.848478</td>\n",
       "      <td>-0.259334</td>\n",
       "      <td>-0.750601</td>\n",
       "      <td>-1.102218</td>\n",
       "      <td>-0.271006</td>\n",
       "    </tr>\n",
       "    <tr>\n",
       "      <th>3</th>\n",
       "      <td>4</td>\n",
       "      <td>0.884761</td>\n",
       "      <td>0.871173</td>\n",
       "      <td>0.352580</td>\n",
       "      <td>-0.036105</td>\n",
       "      <td>-0.194128</td>\n",
       "      <td>0.386413</td>\n",
       "      <td>0.824968</td>\n",
       "      <td>1.810320</td>\n",
       "    </tr>\n",
       "    <tr>\n",
       "      <th>4</th>\n",
       "      <td>5</td>\n",
       "      <td>0.010409</td>\n",
       "      <td>1.979430</td>\n",
       "      <td>-0.130301</td>\n",
       "      <td>-0.036105</td>\n",
       "      <td>-0.259334</td>\n",
       "      <td>-0.658410</td>\n",
       "      <td>-0.737615</td>\n",
       "      <td>0.249326</td>\n",
       "    </tr>\n",
       "  </tbody>\n",
       "</table>\n",
       "</div>"
      ],
      "text/plain": [
       "   id  num_gestacoes   glicose  pressao_sanguinea  grossura_pele  insulina  \\\n",
       "0   1      -0.863943 -0.539336           1.157383      -1.299796 -0.259334   \n",
       "1   2       0.593310 -0.942338          -0.130301      -0.036105 -0.259334   \n",
       "2   3      -0.863943 -0.001999           0.030659       0.848478 -0.259334   \n",
       "3   4       0.884761  0.871173           0.352580      -0.036105 -0.194128   \n",
       "4   5       0.010409  1.979430          -0.130301      -0.036105 -0.259334   \n",
       "\n",
       "        bmi  indice_historico     idade  \n",
       "0 -0.858156         -0.125604 -0.791337  \n",
       "1 -1.380568         -0.809234 -0.444450  \n",
       "2 -0.750601         -1.102218 -0.271006  \n",
       "3  0.386413          0.824968  1.810320  \n",
       "4 -0.658410         -0.737615  0.249326  "
      ]
     },
     "execution_count": 4,
     "metadata": {},
     "output_type": "execute_result"
    }
   ],
   "source": [
    "# Verificando se os dados de teste foram importados corretamente\n",
    "teste.head()"
   ]
  },
  {
   "cell_type": "code",
   "execution_count": 5,
   "metadata": {},
   "outputs": [],
   "source": [
    "# Definindo as variáveis preditoras\n",
    "features = teste.drop(['id'], axis=1).columns"
   ]
  },
  {
   "cell_type": "code",
   "execution_count": 6,
   "metadata": {},
   "outputs": [
    {
     "name": "stdout",
     "output_type": "stream",
     "text": [
      "[0]\ttrain-error:0.498299\teval-error:0.505102\n",
      "Multiple eval metrics have been passed: 'eval-error' will be used for early stopping.\n",
      "\n",
      "Will train until eval-error hasn't improved in 250 rounds.\n",
      "[50]\ttrain-error:0.052721\teval-error:0.229592\n",
      "[100]\ttrain-error:0.001701\teval-error:0.122449\n",
      "[150]\ttrain-error:0\teval-error:0.122449\n",
      "[200]\ttrain-error:0\teval-error:0.117347\n",
      "[250]\ttrain-error:0\teval-error:0.112245\n",
      "[300]\ttrain-error:0\teval-error:0.107143\n",
      "[350]\ttrain-error:0\teval-error:0.107143\n",
      "[400]\ttrain-error:0\teval-error:0.107143\n",
      "[450]\ttrain-error:0\teval-error:0.107143\n",
      "Stopping. Best iteration:\n",
      "[214]\ttrain-error:0\teval-error:0.096939\n",
      "\n"
     ]
    }
   ],
   "source": [
    "# Organizando os parametros\n",
    "param = {\n",
    "    'objective': 'binary:hinge'\n",
    "    ,'booster' : \"gbtree\"\n",
    "    ,'eta': 0.02\n",
    "    ,'max_depth':20\n",
    "    ,'subsample':0.75\n",
    "    ,'colsample_bytree':0.25\n",
    "    ,'silent' : 1\n",
    "    ,'eval_metric': 'error'\n",
    "}\n",
    "\n",
    "# Separando dados de treino e validação\n",
    "X_train, X_test, y_train, y_test = train_test_split(treino[features], treino['classe'], test_size = 0.25)\n",
    "\n",
    "# Organizando o formato dos dados para o algoritmo\n",
    "dtrain = xgb.DMatrix(X_train, y_train)\n",
    "dvalid = xgb.DMatrix(X_test, y_test)\n",
    "watchlist = [(dtrain, 'train'), (dvalid, 'eval')]\n",
    "\n",
    "# Treinando o modelo\n",
    "modelo_xgb = xgb.train(param, dtrain, 10000, evals=watchlist, early_stopping_rounds=250, verbose_eval=50)"
   ]
  },
  {
   "cell_type": "code",
   "execution_count": 19,
   "metadata": {},
   "outputs": [
    {
     "data": {
      "image/png": "[encoded data removed]",
      "text/plain": [
       "<Figure size 432x288 with 1 Axes>"
      ]
     },
     "metadata": {},
     "output_type": "display_data"
    }
   ],
   "source": [
    "# Gráfico para avaliar a importância de cada variáveis para o modelo. \n",
    "plt.style.use('ggplot')\n",
    "plot_importance(modelo_xgb)\n",
    "plt.show()"
   ]
  },
  {
   "cell_type": "code",
   "execution_count": 20,
   "metadata": {},
   "outputs": [
    {
     "data": {
      "text/plain": [
       "array([0., 0., 0., 1., 1., 0., 1., 0., 1., 0., 1., 1., 1., 1., 1., 0., 0.,\n",
       "       0., 1., 0., 1., 0., 1., 0., 0., 0., 0., 0., 0., 0., 0., 1., 0., 0.,\n",
       "       0., 1., 0., 0., 1., 0., 1., 1., 0., 0., 1., 1., 1., 1., 1., 0., 0.,\n",
       "       0., 0., 0., 1., 0., 0., 1., 1., 0., 0., 1., 1., 1., 0., 1., 0., 0.,\n",
       "       0., 1., 1., 0., 0., 1., 0., 1., 0., 0., 0., 0., 0., 1., 0., 1., 0.,\n",
       "       0., 0., 0., 0., 1., 0., 1., 0., 1., 0., 1., 1., 0., 1., 1., 0., 0.,\n",
       "       1., 1., 0., 0., 0., 0., 1., 0., 1., 1., 1., 0., 0., 1., 1., 0., 1.,\n",
       "       0., 0., 0., 1., 0., 1., 0., 0., 1., 0., 0., 0., 0., 1., 1., 0., 1.,\n",
       "       0., 0., 0., 0., 1., 1., 0., 1., 1., 1., 1., 0., 1., 0., 1., 0., 0.,\n",
       "       1., 1., 1., 0., 0., 0., 0., 0., 1., 0., 0., 0., 0., 0., 0.],\n",
       "      dtype=float32)"
      ]
     },
     "execution_count": 20,
     "metadata": {},
     "output_type": "execute_result"
    }
   ],
   "source": [
    "predictions = modelo_xgb.predict(xgb.DMatrix(teste[features]))\n",
    "predictions"
   ]
  },
  {
   "cell_type": "code",
   "execution_count": 21,
   "metadata": {},
   "outputs": [
    {
     "data": {
      "text/plain": [
       "69"
      ]
     },
     "execution_count": 21,
     "metadata": {},
     "output_type": "execute_result"
    }
   ],
   "source": [
    "predictions = [int(i) for i in predictions]\n",
    "sum(predictions)"
   ]
  },
  {
   "cell_type": "code",
   "execution_count": 22,
   "metadata": {},
   "outputs": [],
   "source": [
    "resposta = pd.DataFrame({\"id\":teste[\"id\"].values})\n",
    "resposta[\"classe\"] = predictions\n",
    "resposta.to_csv(\"./xgb_resposta.csv\", index=False)"
   ]
  },
  {
   "cell_type": "markdown",
   "metadata": {},
   "source": [
    "## Resultados:\n",
    "* Public Score: 0.72\n",
    "* Private Score: 0.69"
   ]
  }
 ],
 "metadata": {
  "kernelspec": {
   "display_name": "Python 3",
   "language": "python",
   "name": "python3"
  },
  "language_info": {
   "codemirror_mode": {
    "name": "ipython",
    "version": 3
   },
   "file_extension": ".py",
   "mimetype": "text/x-python",
   "name": "python",
   "nbconvert_exporter": "python",
   "pygments_lexer": "ipython3",
   "version": "3.7.3"
  }
 },
 "nbformat": 4,
 "nbformat_minor": 2
}
