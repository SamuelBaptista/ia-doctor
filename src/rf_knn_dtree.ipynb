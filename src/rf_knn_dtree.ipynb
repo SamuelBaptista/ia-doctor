{
 "cells": [
  {
   "cell_type": "code",
   "execution_count": 1,
   "metadata": {},
   "outputs": [],
   "source": [
    "import pandas as pd\n",
    "from sklearn.model_selection import train_test_split"
   ]
  },
  {
   "cell_type": "code",
   "execution_count": 2,
   "metadata": {},
   "outputs": [],
   "source": [
    "treino = pd.read_csv(\"dataset_treino_smt.csv\")\n",
    "teste = pd.read_csv(\"dataset_teste_ajustado.csv\")"
   ]
  },
  {
   "cell_type": "code",
   "execution_count": 3,
   "metadata": {},
   "outputs": [],
   "source": [
    "features = list(treino.columns.drop('classe'))"
   ]
  },
  {
   "cell_type": "code",
   "execution_count": 4,
   "metadata": {},
   "outputs": [],
   "source": [
    "X_train, X_test, y_train, y_test = train_test_split(treino.loc[:, features], treino['classe'], test_size=0.33, random_state=42)"
   ]
  },
  {
   "cell_type": "code",
   "execution_count": 5,
   "metadata": {},
   "outputs": [
    {
     "data": {
      "image/png": "[encoded data removed]",
      "text/plain": [
       "<Figure size 720x432 with 1 Axes>"
      ]
     },
     "metadata": {
      "needs_background": "light"
     },
     "output_type": "display_data"
    }
   ],
   "source": [
    "from sklearn.neighbors import KNeighborsClassifier\n",
    "import numpy as np \n",
    "import matplotlib.pyplot as plt\n",
    "%matplotlib inline\n",
    "\n",
    "error_rate = []\n",
    "\n",
    "for i in range(1,40):\n",
    "    \n",
    "    knn = KNeighborsClassifier(n_neighbors=i, p=1, weights='distance')\n",
    "    knn.fit(X_train, y_train)\n",
    "    pred_i = knn.predict(X_test)\n",
    "    error_rate.append(np.mean(pred_i != y_test))\n",
    "\n",
    "plt.figure(figsize=(10,6))\n",
    "plt.plot(range(1,40),error_rate,color='blue', linestyle='dashed', marker='o',\n",
    "         markerfacecolor='red', markersize=10)\n",
    "plt.title('Error Rate vs. K Value')\n",
    "plt.xlabel('K')\n",
    "plt.ylabel('Error Rate')\n",
    "plt.show()"
   ]
  },
  {
   "cell_type": "code",
   "execution_count": 6,
   "metadata": {},
   "outputs": [],
   "source": [
    "from sklearn.neighbors import KNeighborsClassifier\n",
    "knn = KNeighborsClassifier(n_neighbors=5, weights='distance', p=1)"
   ]
  },
  {
   "cell_type": "code",
   "execution_count": 7,
   "metadata": {},
   "outputs": [
    {
     "data": {
      "text/plain": [
       "KNeighborsClassifier(algorithm='auto', leaf_size=30, metric='minkowski',\n",
       "                     metric_params=None, n_jobs=None, n_neighbors=5, p=1,\n",
       "                     weights='distance')"
      ]
     },
     "execution_count": 7,
     "metadata": {},
     "output_type": "execute_result"
    }
   ],
   "source": [
    "knn.fit(X_train, y_train)"
   ]
  },
  {
   "cell_type": "code",
   "execution_count": 8,
   "metadata": {},
   "outputs": [],
   "source": [
    "pred = knn.predict(X_test)"
   ]
  },
  {
   "cell_type": "code",
   "execution_count": 9,
   "metadata": {},
   "outputs": [
    {
     "name": "stdout",
     "output_type": "stream",
     "text": [
      "[[104  27]\n",
      " [  7 121]]\n"
     ]
    }
   ],
   "source": [
    "from sklearn.metrics import confusion_matrix\n",
    "print (confusion_matrix(y_test,pred))"
   ]
  },
  {
   "cell_type": "code",
   "execution_count": 10,
   "metadata": {},
   "outputs": [
    {
     "name": "stdout",
     "output_type": "stream",
     "text": [
      "              precision    recall  f1-score   support\n",
      "\n",
      "           0       0.94      0.79      0.86       131\n",
      "           1       0.82      0.95      0.88       128\n",
      "\n",
      "    accuracy                           0.87       259\n",
      "   macro avg       0.88      0.87      0.87       259\n",
      "weighted avg       0.88      0.87      0.87       259\n",
      "\n"
     ]
    }
   ],
   "source": [
    "from sklearn.metrics import classification_report\n",
    "print (classification_report(y_test,pred))"
   ]
  },
  {
   "cell_type": "code",
   "execution_count": 11,
   "metadata": {},
   "outputs": [
    {
     "name": "stdout",
     "output_type": "stream",
     "text": [
      "              precision    recall  f1-score   support\n",
      "\n",
      "           0       0.86      0.83      0.84       131\n",
      "           1       0.83      0.86      0.85       128\n",
      "\n",
      "    accuracy                           0.85       259\n",
      "   macro avg       0.85      0.85      0.85       259\n",
      "weighted avg       0.85      0.85      0.85       259\n",
      "\n",
      "[[109  22]\n",
      " [ 18 110]]\n"
     ]
    }
   ],
   "source": [
    "from sklearn.tree import DecisionTreeClassifier\n",
    "random_state=234\n",
    "dtree = DecisionTreeClassifier(random_state=998)\n",
    "\n",
    "dtree.fit(X_train,y_train)\n",
    "\n",
    "pred = dtree.predict(X_test)\n",
    "print (classification_report(y_test,pred))\n",
    "print (confusion_matrix(y_test,pred))"
   ]
  },
  {
   "cell_type": "code",
   "execution_count": 12,
   "metadata": {},
   "outputs": [
    {
     "name": "stdout",
     "output_type": "stream",
     "text": [
      "Confusion Matrix\n",
      "[[110  21]\n",
      " [ 14 114]]\n",
      "\n",
      "\n",
      "              precision    recall  f1-score   support\n",
      "\n",
      "           0       0.89      0.84      0.86       131\n",
      "           1       0.84      0.89      0.87       128\n",
      "\n",
      "    accuracy                           0.86       259\n",
      "   macro avg       0.87      0.87      0.86       259\n",
      "weighted avg       0.87      0.86      0.86       259\n",
      "\n"
     ]
    }
   ],
   "source": [
    "from sklearn.ensemble import RandomForestClassifier\n",
    "\n",
    "# number of base decision tree estimators\n",
    "n_est = 100\n",
    "# maximum depth of any given decision tree estimator\n",
    "max_depth = 5\n",
    "# random state variable\n",
    "rstate = 42\n",
    "# initialize a random forest algorithm\n",
    "\n",
    "rf = RandomForestClassifier(n_estimators=n_est, max_depth=max_depth, random_state=rstate)\n",
    "\n",
    "rf.fit(X_train,y_train)\n",
    "pred = rf.predict(X_test)\n",
    "\n",
    "\n",
    "print('Confusion Matrix')\n",
    "cm_rf = confusion_matrix(y_test,pred)\n",
    "print(cm_rf)\n",
    "print('\\n')\n",
    "rpt_rf = classification_report(y_test,pred)\n",
    "print(rpt_rf)"
   ]
  },
  {
   "cell_type": "code",
   "execution_count": 13,
   "metadata": {},
   "outputs": [
    {
     "name": "stdout",
     "output_type": "stream",
     "text": [
      "8 features: ['num_gestacoes', 'glicose', 'pressao_sanguinea', 'grossura_pele', 'insulina', 'bmi', 'indice_historico', 'idade']\n",
      "Most important feature for diabetes energy is insulina\n"
     ]
    }
   ],
   "source": [
    "features = [col for col in list(X_train) ]\n",
    "print('%i features: %s' % (len(features), features))\n",
    "\n",
    "importances =  rf.feature_importances_\n",
    "descending_indices = np.argsort(importances)[::-1]\n",
    "sorted_importances = [importances[idx] for idx in descending_indices]\n",
    "sorted_features = [features[idx] for idx in descending_indices]\n",
    "print('Most important feature for diabetes energy is %s' % sorted_features[0])"
   ]
  },
  {
   "cell_type": "code",
   "execution_count": 14,
   "metadata": {},
   "outputs": [
    {
     "data": {
      "image/png": "[encoded data removed]",
      "text/plain": [
       "<Figure size 720x576 with 1 Axes>"
      ]
     },
     "metadata": {
      "needs_background": "light"
     },
     "output_type": "display_data"
    }
   ],
   "source": [
    "def plot_importances(X_train, sorted_features, sorted_importances):\n",
    "    \"\"\"\n",
    "    Args:\n",
    "        X_train (nd-array) - feature matrix of shape (number samples, number features)\n",
    "        sorted_features (list) - feature names (str)\n",
    "        sorted_importances (list) - feature importances (float)\n",
    "    Returns:\n",
    "        matplotlib bar chart of sorted importances\n",
    "    \"\"\"\n",
    "    axis_width = 1.5\n",
    "    maj_tick_len = 6\n",
    "    fontsize = 14\n",
    "    bar_color = 'lightblue'\n",
    "    align = 'center'\n",
    "    label = '__nolegend__'\n",
    "    ax = plt.bar(range(X_train.shape[1]), sorted_importances,\n",
    "                 color=bar_color, align=align, label=label)\n",
    "    ax = plt.xticks(range(X_train.shape[1]), sorted_features, rotation=90)\n",
    "    ax = plt.xlim([-1, X_train.shape[1]])\n",
    "    ax = plt.ylabel('Feature Importance', fontsize=fontsize)\n",
    "    ax = plt.tick_params('both', length=maj_tick_len, width=axis_width, \n",
    "                         which='major', right=True, top=True)\n",
    "    ax = plt.xticks(fontsize=fontsize)\n",
    "    ax = plt.yticks(fontsize=fontsize)\n",
    "    ax = plt.tight_layout()\n",
    "    return ax\n",
    "\n",
    "fig1 = plt.figure(1, figsize=(10,8))\n",
    "\n",
    "ax = plot_importances(X_train, sorted_features, sorted_importances)\n",
    "\n",
    "# plt.tight_layout()\n",
    "plt.show()\n",
    "plt.close()"
   ]
  },
  {
   "cell_type": "code",
   "execution_count": 15,
   "metadata": {},
   "outputs": [
    {
     "data": {
      "text/html": [
       "<div>\n",
       "<style scoped>\n",
       "    .dataframe tbody tr th:only-of-type {\n",
       "        vertical-align: middle;\n",
       "    }\n",
       "\n",
       "    .dataframe tbody tr th {\n",
       "        vertical-align: top;\n",
       "    }\n",
       "\n",
       "    .dataframe thead th {\n",
       "        text-align: right;\n",
       "    }\n",
       "</style>\n",
       "<table border=\"1\" class=\"dataframe\">\n",
       "  <thead>\n",
       "    <tr style=\"text-align: right;\">\n",
       "      <th></th>\n",
       "      <th>id</th>\n",
       "      <th>num_gestacoes</th>\n",
       "      <th>glicose</th>\n",
       "      <th>pressao_sanguinea</th>\n",
       "      <th>grossura_pele</th>\n",
       "      <th>insulina</th>\n",
       "      <th>bmi</th>\n",
       "      <th>indice_historico</th>\n",
       "      <th>idade</th>\n",
       "    </tr>\n",
       "  </thead>\n",
       "  <tbody>\n",
       "    <tr>\n",
       "      <th>0</th>\n",
       "      <td>1</td>\n",
       "      <td>-0.863943</td>\n",
       "      <td>-0.539336</td>\n",
       "      <td>1.157383</td>\n",
       "      <td>-1.299796</td>\n",
       "      <td>-0.259334</td>\n",
       "      <td>-0.858156</td>\n",
       "      <td>-0.125604</td>\n",
       "      <td>-0.791337</td>\n",
       "    </tr>\n",
       "    <tr>\n",
       "      <th>1</th>\n",
       "      <td>2</td>\n",
       "      <td>0.593310</td>\n",
       "      <td>-0.942338</td>\n",
       "      <td>-0.130301</td>\n",
       "      <td>-0.036105</td>\n",
       "      <td>-0.259334</td>\n",
       "      <td>-1.380568</td>\n",
       "      <td>-0.809234</td>\n",
       "      <td>-0.444450</td>\n",
       "    </tr>\n",
       "    <tr>\n",
       "      <th>2</th>\n",
       "      <td>3</td>\n",
       "      <td>-0.863943</td>\n",
       "      <td>-0.001999</td>\n",
       "      <td>0.030659</td>\n",
       "      <td>0.848478</td>\n",
       "      <td>-0.259334</td>\n",
       "      <td>-0.750601</td>\n",
       "      <td>-1.102218</td>\n",
       "      <td>-0.271006</td>\n",
       "    </tr>\n",
       "    <tr>\n",
       "      <th>3</th>\n",
       "      <td>4</td>\n",
       "      <td>0.884761</td>\n",
       "      <td>0.871173</td>\n",
       "      <td>0.352580</td>\n",
       "      <td>-0.036105</td>\n",
       "      <td>-0.194128</td>\n",
       "      <td>0.386413</td>\n",
       "      <td>0.824968</td>\n",
       "      <td>1.810320</td>\n",
       "    </tr>\n",
       "    <tr>\n",
       "      <th>4</th>\n",
       "      <td>5</td>\n",
       "      <td>0.010409</td>\n",
       "      <td>1.979430</td>\n",
       "      <td>-0.130301</td>\n",
       "      <td>-0.036105</td>\n",
       "      <td>-0.259334</td>\n",
       "      <td>-0.658410</td>\n",
       "      <td>-0.737615</td>\n",
       "      <td>0.249326</td>\n",
       "    </tr>\n",
       "  </tbody>\n",
       "</table>\n",
       "</div>"
      ],
      "text/plain": [
       "   id  num_gestacoes   glicose  pressao_sanguinea  grossura_pele  insulina  \\\n",
       "0   1      -0.863943 -0.539336           1.157383      -1.299796 -0.259334   \n",
       "1   2       0.593310 -0.942338          -0.130301      -0.036105 -0.259334   \n",
       "2   3      -0.863943 -0.001999           0.030659       0.848478 -0.259334   \n",
       "3   4       0.884761  0.871173           0.352580      -0.036105 -0.194128   \n",
       "4   5       0.010409  1.979430          -0.130301      -0.036105 -0.259334   \n",
       "\n",
       "        bmi  indice_historico     idade  \n",
       "0 -0.858156         -0.125604 -0.791337  \n",
       "1 -1.380568         -0.809234 -0.444450  \n",
       "2 -0.750601         -1.102218 -0.271006  \n",
       "3  0.386413          0.824968  1.810320  \n",
       "4 -0.658410         -0.737615  0.249326  "
      ]
     },
     "execution_count": 15,
     "metadata": {},
     "output_type": "execute_result"
    }
   ],
   "source": [
    "teste.head()"
   ]
  },
  {
   "cell_type": "code",
   "execution_count": 16,
   "metadata": {},
   "outputs": [
    {
     "name": "stdout",
     "output_type": "stream",
     "text": [
      "87\n",
      "99\n",
      "69\n"
     ]
    }
   ],
   "source": [
    "pred1 = knn.predict(teste[features])\n",
    "pred2 = rf.predict(teste[features])\n",
    "pred3 = dtree.predict(teste[features])\n",
    "\n",
    "predictions = [pred1, pred2, pred3]\n",
    "\n",
    "for i in predictions:\n",
    "    print(sum(i))"
   ]
  },
  {
   "cell_type": "code",
   "execution_count": 17,
   "metadata": {},
   "outputs": [],
   "source": [
    "resposta = pd.DataFrame({\"id\":teste[\"id\"].values})\n",
    "resposta[\"classe\"] = pred1\n",
    "resposta.to_csv(\"./resp_knn.csv\", index=False)"
   ]
  },
  {
   "cell_type": "code",
   "execution_count": 18,
   "metadata": {},
   "outputs": [],
   "source": [
    "resposta = pd.DataFrame({\"id\":teste[\"id\"].values})\n",
    "resposta[\"classe\"] = pred2\n",
    "resposta.to_csv(\"./resp_rf.csv\", index=False)"
   ]
  },
  {
   "cell_type": "code",
   "execution_count": 19,
   "metadata": {},
   "outputs": [],
   "source": [
    "resposta = pd.DataFrame({\"id\":teste[\"id\"].values})\n",
    "resposta[\"classe\"] = pred3\n",
    "resposta.to_csv(\"./resp_dtree.csv\", index=False)"
   ]
  }
 ],
 "metadata": {
  "kernelspec": {
   "display_name": "Python 3",
   "language": "python",
   "name": "python3"
  },
  "language_info": {
   "codemirror_mode": {
    "name": "ipython",
    "version": 3
   },
   "file_extension": ".py",
   "mimetype": "text/x-python",
   "name": "python",
   "nbconvert_exporter": "python",
   "pygments_lexer": "ipython3",
   "version": "3.7.3"
  }
 },
 "nbformat": 4,
 "nbformat_minor": 2
}
